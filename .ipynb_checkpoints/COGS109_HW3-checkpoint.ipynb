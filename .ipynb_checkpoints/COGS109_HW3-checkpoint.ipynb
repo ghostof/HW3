{
 "cells": [
  {
   "cell_type": "code",
   "execution_count": 2,
   "metadata": {},
   "outputs": [
    {
     "name": "stderr",
     "output_type": "stream",
     "text": [
      "C:\\Users\\gu\\Anaconda3\\lib\\site-packages\\ipykernel_launcher.py:8: FutureWarning: The pandas.core.datetools module is deprecated and will be removed in a future version. Please use the pandas.tseries module instead.\n",
      "  \n"
     ]
    }
   ],
   "source": [
    "# COGS109\n",
    "# Homework 3\n",
    "# Gustav Sto. Tomas\n",
    "# A15358078\n",
    "\n",
    "import pandas as pd\n",
    "import pandas.tseries\n",
    "from pandas.core import datetools\n",
    "import numpy as np\n",
    "import matplotlib.pyplot as plt\n",
    "import statsmodels.api as sm\n",
    "import statsmodels.formula.api as smf\n",
    "from sklearn.metrics import confusion_matrix\n",
    "\n",
    "df = pd.read_csv('hw3_divseq_data.csv')"
   ]
  },
  {
   "cell_type": "code",
   "execution_count": 3,
   "metadata": {},
   "outputs": [
    {
     "data": {
      "text/html": [
       "<div>\n",
       "<style>\n",
       "    .dataframe thead tr:only-child th {\n",
       "        text-align: right;\n",
       "    }\n",
       "\n",
       "    .dataframe thead th {\n",
       "        text-align: left;\n",
       "    }\n",
       "\n",
       "    .dataframe tbody tr th {\n",
       "        vertical-align: top;\n",
       "    }\n",
       "</style>\n",
       "<table border=\"1\" class=\"dataframe\">\n",
       "  <thead>\n",
       "    <tr style=\"text-align: right;\">\n",
       "      <th></th>\n",
       "      <th>Lars2</th>\n",
       "      <th>Malat1</th>\n",
       "      <th>mature</th>\n",
       "    </tr>\n",
       "  </thead>\n",
       "  <tbody>\n",
       "    <tr>\n",
       "      <th>0</th>\n",
       "      <td>9.95</td>\n",
       "      <td>6.69</td>\n",
       "      <td>1</td>\n",
       "    </tr>\n",
       "    <tr>\n",
       "      <th>1</th>\n",
       "      <td>10.54</td>\n",
       "      <td>8.53</td>\n",
       "      <td>1</td>\n",
       "    </tr>\n",
       "    <tr>\n",
       "      <th>2</th>\n",
       "      <td>6.58</td>\n",
       "      <td>8.74</td>\n",
       "      <td>1</td>\n",
       "    </tr>\n",
       "    <tr>\n",
       "      <th>3</th>\n",
       "      <td>7.49</td>\n",
       "      <td>9.09</td>\n",
       "      <td>1</td>\n",
       "    </tr>\n",
       "    <tr>\n",
       "      <th>4</th>\n",
       "      <td>7.42</td>\n",
       "      <td>9.87</td>\n",
       "      <td>1</td>\n",
       "    </tr>\n",
       "  </tbody>\n",
       "</table>\n",
       "</div>"
      ],
      "text/plain": [
       "   Lars2  Malat1  mature\n",
       "0   9.95    6.69       1\n",
       "1  10.54    8.53       1\n",
       "2   6.58    8.74       1\n",
       "3   7.49    9.09       1\n",
       "4   7.42    9.87       1"
      ]
     },
     "execution_count": 3,
     "metadata": {},
     "output_type": "execute_result"
    }
   ],
   "source": [
    "df.head()"
   ]
  },
  {
   "cell_type": "code",
   "execution_count": 4,
   "metadata": {
    "collapsed": true
   },
   "outputs": [],
   "source": [
    "lars = []\n",
    "lars0 = []\n",
    "for i in range(len(df.Lars2)):\n",
    "    if df.mature[i] == 1:\n",
    "        lars.append([df.Lars2[i]]) \n",
    "    else: lars0.append([df.Lars2[i]])\n",
    "        \n",
    "\n",
    "        \n",
    "malat = []\n",
    "malat0 = []\n",
    "for i in range(len(df.Malat1)):\n",
    "    if df.mature[i] == 1:\n",
    "        malat.append([df.Malat1[i]]) \n",
    "    else: malat0.append([df.Malat1[i]])    "
   ]
  },
  {
   "cell_type": "code",
   "execution_count": 5,
   "metadata": {},
   "outputs": [
    {
     "data": {
      "image/png": "[encoded data removed]",
      "text/plain": [
       "<matplotlib.figure.Figure at 0x1293d5e9ac8>"
      ]
     },
     "metadata": {},
     "output_type": "display_data"
    },
    {
     "data": {
      "image/png": "[encoded data removed]",
      "text/plain": [
       "<matplotlib.figure.Figure at 0x1293d60d1d0>"
      ]
     },
     "metadata": {},
     "output_type": "display_data"
    }
   ],
   "source": [
    "#4a\n",
    "plt.figure(1)\n",
    "plt.boxplot([lars,lars0],labels = ['mature','immature'])\n",
    "plt.ylabel('expression level (logTPM)')\n",
    "plt.title('Lars2')\n",
    "\n",
    "plt.figure(2)\n",
    "plt.boxplot([malat,malat0],labels = ['mature','immature'])\n",
    "plt.ylabel('expression level (logTPM)')\n",
    "plt.title('Malat1')\n",
    "\n",
    "plt.show()"
   ]
  },
  {
   "cell_type": "code",
   "execution_count": 24,
   "metadata": {},
   "outputs": [
    {
     "name": "stdout",
     "output_type": "stream",
     "text": [
      "Lars2 displays NO overlap in spread inside the interquartal range, so there IS a difference between mature and immature neurons. We could almost use Lars2 to make a perfect classifier. However, there are also a few extreme outliers of the immature neurons that fall inside and above the median of the mature expression levels, meaning that these would be falsely classified as mature, and therefore the classifier would not be perfect. Furthermore, in the plot for Malat1, the expression levels for mature show similar values as the immature ones in Lars2, which is why using Lars2 as training set would not classify correctly for Malat1 as a test set. Conclusion: No.\n"
     ]
    }
   ],
   "source": [
    "#4b) \n",
    "print('Lars2 displays NO overlap in spread inside the interquartal range, so there IS a difference between mature and immature neurons. We could almost use Lars2 to make a perfect classifier. However, there are also a few extreme outliers of the immature neurons that fall inside and above the median of the mature expression levels, meaning that these would be falsely classified as mature, and therefore the classifier would not be perfect. Furthermore, in the plot for Malat1, the expression levels for mature show similar values as the immature ones in Lars2, which is why using Lars2 as training set would not classify correctly for Malat1 as a test set. Conclusion: No.')"
   ]
  },
  {
   "cell_type": "code",
   "execution_count": 34,
   "metadata": {},
   "outputs": [
    {
     "name": "stdout",
     "output_type": "stream",
     "text": [
      "Optimization terminated successfully.\n",
      "         Current function value: 0.235975\n",
      "         Iterations 9\n",
      "                           Logit Regression Results                           \n",
      "==============================================================================\n",
      "Dep. Variable:                 mature   No. Observations:                  817\n",
      "Model:                          Logit   Df Residuals:                      815\n",
      "Method:                           MLE   Df Model:                            1\n",
      "Date:                Sun, 22 Oct 2017   Pseudo R-squ.:                  0.5310\n",
      "Time:                        17:32:44   Log-Likelihood:                -192.79\n",
      "converged:                       True   LL-Null:                       -411.04\n",
      "                                        LLR p-value:                 6.284e-97\n",
      "==============================================================================\n",
      "                 coef    std err          z      P>|z|      [0.025      0.975]\n",
      "------------------------------------------------------------------------------\n",
      "Intercept    -17.9775      1.432    -12.556      0.000     -20.784     -15.171\n",
      "Lars2          2.5422      0.209     12.191      0.000       2.134       2.951\n",
      "==============================================================================\n",
      "Intercept    3.679364e-36\n",
      "Lars2        3.455778e-34\n",
      "dtype: float64\n",
      "p-value for Lars2 coeffecient is 3.455778e-34; my conclusion is that there is a significantly positive correlation between Lars2 neurons' expression values and maturity==1.\n"
     ]
    }
   ],
   "source": [
    "#4c)\n",
    "\n",
    "logreg = smf.logit(formula = 'mature ~ Lars2', data=df).fit()\n",
    "print(logreg.summary())\n",
    "print(logreg.pvalues)\n",
    "print('p-value for Lars2 coeffecient is 3.455778e-34; my conclusion is that there is a significantly positive correlation between Lars2 neurons\\' expression values and maturity==1.')\n"
   ]
  },
  {
   "cell_type": "code",
   "execution_count": 35,
   "metadata": {},
   "outputs": [
    {
     "data": {
      "image/png": "[encoded data removed]",
      "text/plain": [
       "<matplotlib.figure.Figure at 0x1293de71438>"
      ]
     },
     "metadata": {},
     "output_type": "display_data"
    },
    {
     "name": "stdout",
     "output_type": "stream",
     "text": [
      "[0.93179368611821334, 0.93179368611821334]\n",
      "as there is no true value 8.0 in Lars2, our closest value is 8.1, for which the predicted probability is 0.93: a very strong probability that the neuron is mature.\n"
     ]
    }
   ],
   "source": [
    "#4d)\n",
    "\n",
    "p = logreg.predict(df.Lars2)\n",
    "\n",
    "fig, ax = plt.subplots()\n",
    "ax.scatter(df.Lars2, p)\n",
    "plt.xlabel('Lars2 expression level (log TPM)')\n",
    "plt.ylabel('p of maturity')\n",
    "plt.title('Prediction for Lars2')\n",
    "ax.grid(linewidth=0.5)\n",
    "plt.show()\n",
    "\n",
    "\n",
    "p8 = []\n",
    "for i in range(len(df.Lars2)):\n",
    "    if df.Lars2[i] == 8.0:\n",
    "        p8.append(p[i])\n",
    "    if df.Lars2[i] == 7.9:\n",
    "        p8.append(p[i])\n",
    "    if df.Lars2[i] == 8.1:\n",
    "        p8.append(p[i])\n",
    "print(p8)\n",
    "\n",
    "print('as there is no true value 8.0 in Lars2, our closest value is 8.1, for which the predicted probability is 0.93: a very strong probability that the neuron is mature.')"
   ]
  },
  {
   "cell_type": "code",
   "execution_count": 39,
   "metadata": {},
   "outputs": [
    {
     "name": "stdout",
     "output_type": "stream",
     "text": [
      "               pred_immature  pred_mature\n",
      "true_immature            616           36\n",
      "true_mature               57          108\n",
      "\n",
      "\n",
      "correctly predicted mature (TP): 108\n",
      "correctly predicted immature (TN): 616\n",
      "correctly predicted: 724\n",
      "correctly predicted: 0.886168910649\n",
      "4e): Sensitivity:  0.944785276074\n",
      "4f): Specificity:  0.654545454545\n"
     ]
    }
   ],
   "source": [
    "#4e and f\n",
    "\n",
    "df['pred']=p\n",
    "df['pred_Mature'] = 1*(df.pred > 0.5)\n",
    "\n",
    "\n",
    "conf_mat = confusion_matrix(df.mature, df.pred_Mature)\n",
    "\n",
    "con = pd.DataFrame(data=conf_mat, index=['true_immature','true_mature'],columns=['pred_immature','pred_mature'])\n",
    "print(con)\n",
    "correct_m = conf_mat[1,1]\n",
    "correct_im = conf_mat[0,0]\n",
    "correct = conf_mat[0,0]+conf_mat[1,1]\n",
    "print()\n",
    "print()\n",
    "print('correctly predicted mature (TP):', correct_m)\n",
    "print('correctly predicted immature (TN):', correct_im)\n",
    "print('correctly predicted:', correct)\n",
    "print('correctly predicted:', correct/len(df))\n",
    "\n",
    "\n",
    "sensitivity = conf_mat[0,0]/(conf_mat[0,0]+conf_mat[0,1])\n",
    "print(\"4e): Sensitivity: \", sensitivity)\n",
    "specificity = conf_mat[1,1]/(conf_mat[1,0]+conf_mat[1,1])\n",
    "print(\"4f): Specificity: \", specificity)"
   ]
  },
  {
   "cell_type": "code",
   "execution_count": 40,
   "metadata": {},
   "outputs": [
    {
     "name": "stdout",
     "output_type": "stream",
     "text": [
      "               pred_immature  pred_mature\n",
      "true_immature            566           86\n",
      "true_mature               15          150\n",
      "\n",
      "\n",
      "correctly predicted mature (TP): 150\n",
      "correctly predicted immature (TN): 566\n",
      "correctly predicted: 716\n",
      "correctly predicted: 0.876376988984\n",
      "Sensitivity:  0.868098159509\n",
      "Specificity:  0.909090909091\n",
      "\n",
      "sensitivity increases because we get fewer false negatives. specificity decrease because we get more false positives. we may want to set the classification threshold to 20% for non-binary classifiers, in which case we may want an \"almost mature neuron\" class. furthermore, if the data does not contain any values above 0.5, we may still want to discriminate between the data points that are closer to 0.5 than the ones closer to 0. beyond this, the threshold level gives us a trade-off between false negatives and false positives, so depending on whether we want to focus on correctly classifying the mature on immature neurons, differenet levels can be used.\n"
     ]
    }
   ],
   "source": [
    "#4g\n",
    "df['pred_Mature_2'] = 1*(df.pred > 0.2)\n",
    "\n",
    "conf_mat2 = confusion_matrix(df.mature, df.pred_Mature_2)\n",
    "\n",
    "\n",
    "con2 = pd.DataFrame(data=conf_mat2, index=['true_immature','true_mature'],columns=['pred_immature','pred_mature'])\n",
    "print(con2)\n",
    "correct_m2 = conf_mat2[1,1]\n",
    "correct_im2 = conf_mat2[0,0]\n",
    "correct2 = conf_mat2[0,0]+conf_mat2[1,1]\n",
    "print()\n",
    "print()\n",
    "print('correctly predicted mature (TP):', correct_m2)\n",
    "print('correctly predicted immature (TN):', correct_im2)\n",
    "print('correctly predicted:', correct2)\n",
    "print('correctly predicted:', correct2/len(df))\n",
    "\n",
    "\n",
    "sensitivity2 = conf_mat2[0,0]/(conf_mat2[0,0]+conf_mat2[0,1])\n",
    "print(\"Sensitivity: \", sensitivity2)\n",
    "specificity2 = conf_mat2[1,1]/(conf_mat2[1,0]+conf_mat2[1,1])\n",
    "print(\"Specificity: \", specificity2)\n",
    "print()\n",
    "print('sensitivity increases because we get fewer false negatives. specificity decrease because we get more false positives. we may want to set the classification threshold to 20% for non-binary classifiers, in which case we may want an \\\"almost mature neuron\\\" class. furthermore, if the data does not contain any values above 0.5, we may still want to discriminate between the data points that are closer to 0.5 than the ones closer to 0. beyond this, the threshold level gives us a trade-off between false negatives and false positives, so depending on whether we want to focus on correctly classifying the mature on immature neurons, differenet levels can be used.')"
   ]
  },
  {
   "cell_type": "code",
   "execution_count": 20,
   "metadata": {},
   "outputs": [
    {
     "data": {
      "image/png": "[encoded data removed]",
      "text/plain": [
       "<matplotlib.figure.Figure at 0x1457ace5a58>"
      ]
     },
     "metadata": {},
     "output_type": "display_data"
    }
   ],
   "source": [
    "#4h\n",
    "    \n",
    "fig, ax = plt.subplots()\n",
    "untrues = [i for i,val in enumerate(df.mature) if val != True]\n",
    "trues = [i for i, val in enumerate(df.mature) if val==True]\n",
    "ax.scatter(df.Lars2[untrues],df.Malat1[untrues],color='b',marker='x',label='Immature neurons')\n",
    "ax.scatter(df.Lars2[trues], df.Malat1[trues],color='r', marker='^',label='Mature neurons')\n",
    "plt.xlabel('Lars2 expression level (log TPM)')\n",
    "plt.ylabel('Malat1 expression level (log TPM)')\n",
    "plt.legend()\n",
    "plt.show()"
   ]
  },
  {
   "cell_type": "code",
   "execution_count": 37,
   "metadata": {},
   "outputs": [
    {
     "name": "stdout",
     "output_type": "stream",
     "text": [
      "Optimization terminated successfully.\n",
      "         Current function value: 0.196827\n",
      "         Iterations 9\n",
      "                           Logit Regression Results                           \n",
      "==============================================================================\n",
      "Dep. Variable:                 mature   No. Observations:                  817\n",
      "Model:                          Logit   Df Residuals:                      814\n",
      "Method:                           MLE   Df Model:                            2\n",
      "Date:                Sun, 22 Oct 2017   Pseudo R-squ.:                  0.6088\n",
      "Time:                        17:33:27   Log-Likelihood:                -160.81\n",
      "converged:                       True   LL-Null:                       -411.04\n",
      "                                        LLR p-value:                2.122e-109\n",
      "==============================================================================\n",
      "                 coef    std err          z      P>|z|      [0.025      0.975]\n",
      "------------------------------------------------------------------------------\n",
      "Intercept    -25.5697      2.177    -11.743      0.000     -29.838     -21.302\n",
      "Lars2          2.3119      0.223     10.354      0.000       1.874       2.750\n",
      "Malat1         1.0836      0.156      6.941      0.000       0.778       1.390\n",
      "==============================================================================\n",
      "Intercept    7.691410e-32\n",
      "Lars2        3.995510e-25\n",
      "Malat1       3.885592e-12\n",
      "dtype: float64\n",
      "Intercept   -11.742782\n",
      "Lars2        10.354432\n",
      "Malat1        6.941281\n",
      "dtype: float64\n",
      "p-values are < 0.01 for Lars2 and Malat (and intercept), and t-statistics (=z) are > 2 for both Lars and Malat1 (but not the intercept)\n"
     ]
    }
   ],
   "source": [
    "#4i)\n",
    "\n",
    "logreg2 = smf.logit(formula = 'mature ~ Lars2 + Malat1', data=df).fit()\n",
    "print(logreg2.summary())\n",
    "print(logreg2.pvalues)\n",
    "print(logreg2.tvalues)\n",
    "print('p-values are < 0.01 for Lars2 and Malat (and intercept), and t-statistics (=z) are > 2 for both Lars and Malat1 (but not the intercept)')\n"
   ]
  },
  {
   "cell_type": "code",
   "execution_count": 44,
   "metadata": {},
   "outputs": [
    {
     "name": "stdout",
     "output_type": "stream",
     "text": [
      "               pred_immature  pred_mature\n",
      "true_immature            618           34\n",
      "true_mature               45          120\n",
      "\n",
      "\n",
      "correctly predicted mature (TP): 120\n",
      "correctly predicted immature (TN): 618\n",
      "correctly predicted: 738\n",
      "correctly predicted: 0.903304773562\n",
      "Sensitivity:  0.947852760736\n",
      "Specificity:  0.727272727273\n",
      "\n",
      "for immature neurons, the results are almost identical (with slightly less false positives). however, for mature neurons (positives), there are fewer false negatives and more true positives. in total leading to similar sensitivity but higher specificity.\n"
     ]
    }
   ],
   "source": [
    "#4j\n",
    "\n",
    "pred_both = df[['Lars2','Malat1']]\n",
    "\n",
    "\n",
    "df['pred_both'] = logreg2.predict(pred_both)\n",
    "df['pred_both_mature'] = 1*(df.pred_both > 0.5)\n",
    "\n",
    "\n",
    "conf_mat_b = confusion_matrix(df.mature, df.pred_both_mature,)\n",
    "\n",
    "\n",
    "conb = pd.DataFrame(data=conf_mat_b, index=['true_immature','true_mature'],columns=['pred_immature','pred_mature'])\n",
    "print(conb)\n",
    "correct_mb = conf_mat_b[1,1]\n",
    "correct_imb = conf_mat_b[0,0]\n",
    "correctb = conf_mat_b[0,0]+conf_mat_b[1,1]\n",
    "print()\n",
    "print()\n",
    "print('correctly predicted mature (TP):', correct_mb)\n",
    "print('correctly predicted immature (TN):', correct_imb)\n",
    "print('correctly predicted:', correctb)\n",
    "print('correctly predicted:', correctb/len(df))\n",
    "\n",
    "\n",
    "sensitivityb = conf_mat_b[0,0]/(conf_mat_b[0,0]+conf_mat_b[0,1])\n",
    "print(\"Sensitivity: \", sensitivityb)\n",
    "specificityb = conf_mat_b[1,1]/(conf_mat_b[1,0]+conf_mat_b[1,1])\n",
    "print(\"Specificity: \", specificityb)\n",
    "print()\n",
    "print('for immature neurons, the results are almost identical (with slightly less false positives). however, for mature neurons (positives), there are fewer false negatives and more true positives. in total leading to similar sensitivity but higher specificity.')\n"
   ]
  },
  {
   "cell_type": "code",
   "execution_count": null,
   "metadata": {
    "collapsed": true
   },
   "outputs": [],
   "source": []
  }
 ],
 "metadata": {
  "kernelspec": {
   "display_name": "Python 3",
   "language": "python",
   "name": "python3"
  },
  "language_info": {
   "codemirror_mode": {
    "name": "ipython",
    "version": 3
   },
   "file_extension": ".py",
   "mimetype": "text/x-python",
   "name": "python",
   "nbconvert_exporter": "python",
   "pygments_lexer": "ipython3",
   "version": "3.6.2"
  }
 },
 "nbformat": 4,
 "nbformat_minor": 2
}
