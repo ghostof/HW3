{
 "cells": [
  {
   "cell_type": "code",
   "execution_count": 21,
   "metadata": {},
   "outputs": [
    {
     "name": "stderr",
     "output_type": "stream",
     "text": [
      "C:\\Users\\gu\\Anaconda3\\lib\\site-packages\\statsmodels\\compat\\pandas.py:56: FutureWarning: The pandas.core.datetools module is deprecated and will be removed in a future version. Please use the pandas.tseries module instead.\n",
      "  from pandas.core import datetools\n"
     ]
    }
   ],
   "source": [
    "import pandas as pd\n",
    "import matplotlib.pylab as plt\n",
    "import numpy as np\n",
    "import statsmodels.formula.api as smf\n",
    "import statsmodels.api as sm\n",
    "import seaborn as sns"
   ]
  },
  {
   "cell_type": "code",
   "execution_count": 5,
   "metadata": {},
   "outputs": [
    {
     "data": {
      "text/html": [
       "<div>\n",
       "<style>\n",
       "    .dataframe thead tr:only-child th {\n",
       "        text-align: right;\n",
       "    }\n",
       "\n",
       "    .dataframe thead th {\n",
       "        text-align: left;\n",
       "    }\n",
       "\n",
       "    .dataframe tbody tr th {\n",
       "        vertical-align: top;\n",
       "    }\n",
       "</style>\n",
       "<table border=\"1\" class=\"dataframe\">\n",
       "  <thead>\n",
       "    <tr style=\"text-align: right;\">\n",
       "      <th></th>\n",
       "      <th>Survived</th>\n",
       "      <th>Pclass</th>\n",
       "      <th>Last Name</th>\n",
       "      <th>First Name</th>\n",
       "      <th>Sex</th>\n",
       "      <th>Age</th>\n",
       "      <th>SibSp</th>\n",
       "      <th>Parch</th>\n",
       "      <th>Ticket</th>\n",
       "      <th>Fare</th>\n",
       "      <th>Cabin</th>\n",
       "      <th>Embarked</th>\n",
       "    </tr>\n",
       "  </thead>\n",
       "  <tbody>\n",
       "    <tr>\n",
       "      <th>0</th>\n",
       "      <td>0</td>\n",
       "      <td>3</td>\n",
       "      <td>Braund</td>\n",
       "      <td>Mr. Owen Harris</td>\n",
       "      <td>male</td>\n",
       "      <td>22.0</td>\n",
       "      <td>1</td>\n",
       "      <td>0</td>\n",
       "      <td>A/5 21171</td>\n",
       "      <td>7.2500</td>\n",
       "      <td>NaN</td>\n",
       "      <td>S</td>\n",
       "    </tr>\n",
       "    <tr>\n",
       "      <th>1</th>\n",
       "      <td>1</td>\n",
       "      <td>1</td>\n",
       "      <td>Cumings</td>\n",
       "      <td>Mrs. John Bradley (Florence Briggs Thayer)</td>\n",
       "      <td>female</td>\n",
       "      <td>38.0</td>\n",
       "      <td>1</td>\n",
       "      <td>0</td>\n",
       "      <td>PC 17599</td>\n",
       "      <td>71.2833</td>\n",
       "      <td>C85</td>\n",
       "      <td>C</td>\n",
       "    </tr>\n",
       "    <tr>\n",
       "      <th>2</th>\n",
       "      <td>1</td>\n",
       "      <td>3</td>\n",
       "      <td>Heikkinen</td>\n",
       "      <td>Miss. Laina</td>\n",
       "      <td>female</td>\n",
       "      <td>26.0</td>\n",
       "      <td>0</td>\n",
       "      <td>0</td>\n",
       "      <td>STON/O2. 3101282</td>\n",
       "      <td>7.9250</td>\n",
       "      <td>NaN</td>\n",
       "      <td>S</td>\n",
       "    </tr>\n",
       "    <tr>\n",
       "      <th>3</th>\n",
       "      <td>1</td>\n",
       "      <td>1</td>\n",
       "      <td>Futrelle</td>\n",
       "      <td>Mrs. Jacques Heath (Lily May Peel)</td>\n",
       "      <td>female</td>\n",
       "      <td>35.0</td>\n",
       "      <td>1</td>\n",
       "      <td>0</td>\n",
       "      <td>113803</td>\n",
       "      <td>53.1000</td>\n",
       "      <td>C123</td>\n",
       "      <td>S</td>\n",
       "    </tr>\n",
       "    <tr>\n",
       "      <th>4</th>\n",
       "      <td>0</td>\n",
       "      <td>3</td>\n",
       "      <td>Allen</td>\n",
       "      <td>Mr. William Henry</td>\n",
       "      <td>male</td>\n",
       "      <td>35.0</td>\n",
       "      <td>0</td>\n",
       "      <td>0</td>\n",
       "      <td>373450</td>\n",
       "      <td>8.0500</td>\n",
       "      <td>NaN</td>\n",
       "      <td>S</td>\n",
       "    </tr>\n",
       "  </tbody>\n",
       "</table>\n",
       "</div>"
      ],
      "text/plain": [
       "   Survived  Pclass  Last Name                                   First Name  \\\n",
       "0         0       3     Braund                              Mr. Owen Harris   \n",
       "1         1       1    Cumings   Mrs. John Bradley (Florence Briggs Thayer)   \n",
       "2         1       3  Heikkinen                                  Miss. Laina   \n",
       "3         1       1   Futrelle           Mrs. Jacques Heath (Lily May Peel)   \n",
       "4         0       3      Allen                            Mr. William Henry   \n",
       "\n",
       "      Sex   Age  SibSp  Parch            Ticket     Fare Cabin Embarked  \n",
       "0    male  22.0      1      0         A/5 21171   7.2500   NaN        S  \n",
       "1  female  38.0      1      0          PC 17599  71.2833   C85        C  \n",
       "2  female  26.0      0      0  STON/O2. 3101282   7.9250   NaN        S  \n",
       "3  female  35.0      1      0            113803  53.1000  C123        S  \n",
       "4    male  35.0      0      0            373450   8.0500   NaN        S  "
      ]
     },
     "execution_count": 5,
     "metadata": {},
     "output_type": "execute_result"
    }
   ],
   "source": [
    "df = pd.read_csv('Titanic_Passengers_filtered.csv')\n",
    "df.head()"
   ]
  },
  {
   "cell_type": "code",
   "execution_count": 8,
   "metadata": {},
   "outputs": [
    {
     "data": {
      "image/png": "[encoded data removed]",
      "text/plain": [
       "<matplotlib.figure.Figure at 0x24e32950da0>"
      ]
     },
     "metadata": {},
     "output_type": "display_data"
    }
   ],
   "source": [
    "sns.boxplot(x='Survived',y='Fare', data=df,showfliers=False)\n",
    "plt.show()"
   ]
  },
  {
   "cell_type": "code",
   "execution_count": 9,
   "metadata": {},
   "outputs": [
    {
     "data": {
      "image/png": "[encoded data removed]",
      "text/plain": [
       "<matplotlib.figure.Figure at 0x24e32a3d320>"
      ]
     },
     "metadata": {},
     "output_type": "display_data"
    }
   ],
   "source": [
    "sns.boxplot(x='Survived',y='Age', data=df,showfliers=False)\n",
    "plt.show()"
   ]
  },
  {
   "cell_type": "code",
   "execution_count": 20,
   "metadata": {},
   "outputs": [
    {
     "name": "stdout",
     "output_type": "stream",
     "text": [
      "Male survival rate is 0.205298.\n",
      "Female survival rate is 0.754789.\n"
     ]
    }
   ],
   "source": [
    "num_males = df[df.Sex=='male'].shape[0]\n",
    "num_males_survive = df[(df.Sex=='male') & (df.Survived==1)].shape[0]\n",
    "male_surv_rate = num_males_survive/num_males\n",
    "print('Male survival rate is %f.' % male_surv_rate)\n",
    "num_females = df[df.Sex!='male'].shape[0]\n",
    "num_females_survive = df[(df.Sex!='male') & (df.Survived==1)].shape[0]\n",
    "female_surv_rate = num_females_survive/num_females\n",
    "print('Female survival rate is %f.' % female_surv_rate)"
   ]
  },
  {
   "cell_type": "code",
   "execution_count": 29,
   "metadata": {},
   "outputs": [
    {
     "name": "stdout",
     "output_type": "stream",
     "text": [
      "Optimization terminated successfully.\n",
      "         Current function value: 0.624185\n",
      "         Iterations 6\n",
      "                           Logit Regression Results                           \n",
      "==============================================================================\n",
      "Dep. Variable:               Survived   No. Observations:                  714\n",
      "Model:                          Logit   Df Residuals:                      711\n",
      "Method:                           MLE   Df Model:                            2\n",
      "Date:                Fri, 20 Oct 2017   Pseudo R-squ.:                 0.07587\n",
      "Time:                        13:30:00   Log-Likelihood:                -445.67\n",
      "converged:                       True   LL-Null:                       -482.26\n",
      "                                        LLR p-value:                 1.286e-16\n",
      "==============================================================================\n",
      "                 coef    std err          z      P>|z|      [0.025      0.975]\n",
      "------------------------------------------------------------------------------\n",
      "Intercept     -0.4171      0.186     -2.243      0.025      -0.782      -0.053\n",
      "Fare           0.0173      0.003      6.596      0.000       0.012       0.022\n",
      "Age           -0.0176      0.006     -3.103      0.002      -0.029      -0.006\n",
      "==============================================================================\n",
      "Intercept    2.492738e-02\n",
      "Fare         4.231168e-11\n",
      "Age          1.918716e-03\n",
      "dtype: float64\n",
      "[ 0.33656114  0.53623611  0.32359022  0.4710624   0.29041498  0.3843259\n",
      "  0.47789149  0.33191656  0.46401737  0.45037543  0.27321076  0.34758007\n",
      "  0.36288656  0.37107634  0.24829366  0.51260687  0.34268875  0.35810885\n",
      "  0.31209092  0.36768519  0.42639414  0.45166091  0.36741154  0.9778584\n",
      "  0.34484528  0.19844889  0.62454472  0.43587682  0.3436046   0.39584316\n",
      "  0.38481997  0.27754575  0.37069269  0.56163467  0.3509052   0.39501799\n",
      "  0.53614624  0.34263215  0.51145396  0.38269822  0.37989554  0.35320318\n",
      "  0.31146579  0.49349353  0.54958647  0.33648099  0.57337512  0.55787913\n",
      "  0.49853496  0.3217773   0.35200312  0.35913616  0.32638237  0.31037831\n",
      "  0.52774845  0.61828814  0.34872741  0.49886533  0.3264053   0.5172051\n",
      "  0.32539025  0.34333785  0.31802253  0.47592332  0.36942715  0.32660131\n",
      "  0.47376085  0.97628375  0.33181068  0.31261997  0.34681418  0.45763158\n",
      "  0.37308546  0.20931523  0.25596506  0.567609    0.35028688  0.36215955\n",
      "  0.31583442  0.63359128  0.29989768  0.28278605  0.31583442  0.34204931\n",
      "  0.27913307  0.41440006  0.39592201  0.33965093  0.35455884  0.38547783\n",
      "  0.34311821  0.17908184  0.36252927  0.96871612  0.52187195  0.61828814\n",
      "  0.38476292  0.31777964  0.4918925   0.39317574  0.32834438  0.25205044\n",
      "  0.2971568   0.34367679  0.27032113  0.38269822  0.34702173  0.36315595\n",
      "  0.42618393  0.46231244  0.36836338  0.62899927  0.33849064  0.36230085\n",
      "  0.34647937  0.3693526   0.47083322  0.31926985  0.50449881  0.35207075\n",
      "  0.28272403  0.25022872  0.58555684  0.22205567  0.29344015  0.43677797\n",
      "  0.36242706  0.30885506  0.28645884  0.29977447  0.32302386  0.36207084\n",
      "  0.56225233  0.44496571  0.32594679  0.51643781  0.28675791  0.50382026\n",
      "  0.43967261  0.34311821  0.29490351  0.35482069  0.30993044  0.3273823\n",
      "  0.25924858  0.49160988  0.55932991  0.4732124   0.32084882  0.29886957\n",
      "  0.28626187  0.31968815  0.37129016  0.35080693  0.49473203  0.32913737\n",
      "  0.74877836  0.26692008  0.35101559  0.32184715  0.28851361  0.25120782\n",
      "  0.35559464  0.43250301  0.3304791   0.36589874  0.36249366  0.35774111\n",
      "  0.32799546  0.33852515  0.33656114  0.3273823   0.72967142  0.31975466\n",
      "  0.33417274  0.58348743  0.31795312  0.36369099  0.3390987   0.23602019\n",
      "  0.61496207  0.34470099  0.36127561  0.34247385  0.37540275  0.60069052\n",
      "  0.311601    0.22772655  0.50918646  0.34125107  0.32261341  0.47386132\n",
      "  0.36127561  0.31317959  0.3217773   0.33607962  0.30582404  0.58970555\n",
      "  0.32687979  0.35693537  0.45997176  0.28545298  0.32163607  0.25947354\n",
      "  0.33927033  0.31239739  0.33990643  0.63377398  0.99959437  0.3000084\n",
      "  0.51796896  0.51087251  0.24597578  0.29553219  0.49665804  0.32687979\n",
      "  0.7706367   0.78726377  0.29806792  0.30976213  0.36473236  0.45535383\n",
      "  0.25458031  0.49063762  0.33563279  0.19373844  0.31567931  0.36950171\n",
      "  0.3515769   0.29992776  0.31422231  0.3390543   0.28272403  0.33849064\n",
      "  0.61933552  0.69441329  0.30413664  0.33487887  0.33122091  0.33061973\n",
      "  0.89690454  0.95147019  0.32059368  0.89864681  0.7619769   0.37046874\n",
      "  0.50952332  0.64479557  0.97800497  0.39523103  0.31583442  0.32741624\n",
      "  0.32332283  0.40366452  0.24514572  0.86799484  0.76871319  0.33656114\n",
      "  0.31964506  0.32491688  0.42475407  0.78430489  0.20073789  0.3045934\n",
      "  0.35257087  0.5750088   0.3262909   0.82685186  0.40428099  0.55541604\n",
      "  0.76557311  0.25556409  0.35539422  0.49912644  0.97587332  0.33517041\n",
      "  0.34702173  0.3045934   0.35101559  0.28990766  0.45130925  0.26779327\n",
      "  0.34025681  0.36448114  0.36602305  0.32184715  0.53629363  0.29719818\n",
      "  0.34554434  0.38973814  0.27715308  0.28687138  0.30591564  0.45684087\n",
      "  0.58833054  0.52505852  0.34947232  0.3515769   0.82303251  0.4735073\n",
      "  0.33656114  0.9403901   0.33195103  0.35049571  0.94110854  0.45935057\n",
      "  0.30094718  0.46633498  0.63065407  0.59261448  0.3045934   0.37547779\n",
      "  0.735192    0.34261582  0.31594333  0.7564996   0.3656969   0.33866766\n",
      "  0.30439939  0.31497885  0.34521363  0.33382575  0.27571037  0.32406259\n",
      "  0.35054644  0.346218    0.34998103  0.34247251  0.23508789  0.463516\n",
      "  0.34253497  0.63555217  0.25850901  0.38845198  0.37540275  0.3273823\n",
      "  0.45610095  0.34237292  0.31197133  0.34057565  0.4050103   0.38685942\n",
      "  0.42498868  0.30140122  0.38911334  0.33034378  0.35596467  0.41794075\n",
      "  0.80342687  0.4519128   0.37394197  0.95243289  0.31415335  0.31972166\n",
      "  0.35327629  0.32687979  0.33517041  0.71613545  0.42335002  0.36435508\n",
      "  0.45696171  0.30900994  0.3610158   0.38568484  0.56448786  0.31204838\n",
      "  0.24946983  0.24698406  0.30946772  0.29405073  0.35921037  0.26183365\n",
      "  0.27620536  0.28024711  0.47555151  0.28180335  0.3732679   0.3581653\n",
      "  0.34660392  0.34247251  0.30890791  0.33760549  0.44024947  0.55827319\n",
      "  0.23920453  0.20439797  0.67158516  0.62737081  0.28413764  0.30885506\n",
      "  0.42534906  0.34049739  0.2978646   0.30772851  0.3436046   0.49611672\n",
      "  0.85308321  0.33083873  0.36207084  0.34243781  0.28864141  0.6888052\n",
      "  0.75877407  0.36622992  0.37273399  0.52521154  0.31150846  0.35521393\n",
      "  0.41553212  0.32969351  0.34161698  0.30290382  0.35407832  0.30084117\n",
      "  0.66133527  0.3390543   0.45267248  0.26988064  0.24698406  0.27571037\n",
      "  0.34912509  0.49912644  0.35637705  0.31111608  0.47824582  0.32084882\n",
      "  0.70936762  0.51262463  0.54375443  0.49112463  0.48234184  0.37031948\n",
      "  0.63198607  0.25098693  0.42498868  0.34458801  0.51913135  0.76812909\n",
      "  0.39103721  0.33646481  0.33858726  0.25947354  0.35953402  0.56758781\n",
      "  0.32091236  0.27211412  0.33709598  0.39600305  0.35097046  0.36282846\n",
      "  0.30069018  0.20987095  0.38692329  0.35560931  0.36369099  0.37735305\n",
      "  0.31209092  0.46558697  0.30094718  0.41610971  0.69233364  0.28545298\n",
      "  0.41159257  0.65501626  0.27202659  0.47379986  0.33965093  0.28713625\n",
      "  0.50490569  0.24636072  0.3500684   0.34681065  0.2178232   0.42656206\n",
      "  0.40782577  0.25892274  0.3602937   0.31399452  0.30828728  0.40967918\n",
      "  0.47846562  0.82176056  0.36288656  0.29041498  0.57024656  0.31730161\n",
      "  0.35520579  0.54629397  0.33339253  0.34474575  0.43823006  0.37825837\n",
      "  0.34284286  0.37558231  0.28261368  0.23043023  0.63627472  0.32347993\n",
      "  0.21322798  0.23293539  0.38860405  0.4765791   0.33517041  0.30094718\n",
      "  0.37543888  0.38868854  0.34681418  0.58833054  0.50732364  0.47555151\n",
      "  0.51584526  0.35097046  0.31243202  0.33379781  0.41665411  0.34509812\n",
      "  0.35047034  0.60576701  0.32914395  0.35503043  0.62675932  0.73313867\n",
      "  0.26982716  0.30967445  0.28485349  0.34709103  0.5717332   0.34702173\n",
      "  0.26230999  0.39004693  0.48386798  0.18750096  0.32352329  0.35450784\n",
      "  0.32986489  0.3627115   0.41011039  0.99958718  0.60648214  0.35219271\n",
      "  0.53650114  0.31030728  0.46532424  0.50544698  0.35996562  0.35458999\n",
      "  0.95104266  0.50543513  0.43639193  0.32479469  0.26628572  0.25008776\n",
      "  0.25892274  0.65368299  0.26438088  0.96057925  0.35925021  0.38130556\n",
      "  0.32675335  0.32332283  0.34211226  0.27386604  0.33144234  0.85957034\n",
      "  0.50385616  0.41014078  0.31796003  0.2484729   0.35000476  0.94488681\n",
      "  0.32949738  0.29672156  0.51174801  0.35568459  0.31209092  0.25509576\n",
      "  0.50618653  0.34998103  0.35847677  0.39944032  0.32744965  0.93822621\n",
      "  0.42894032  0.35503043  0.35503043  0.34520587  0.33904292  0.99959437\n",
      "  0.57711584  0.97684152  0.36329828  0.30465818  0.39599058  0.41366675\n",
      "  0.3273823   0.54124969  0.30401875  0.47740885  0.42379166  0.3029714\n",
      "  0.33512626  0.46529972  0.45547173  0.31546162  0.3693526   0.29405073\n",
      "  0.62144981  0.26604077  0.34437473  0.735192    0.36259338  0.50796915\n",
      "  0.30588167  0.30253803  0.33738211  0.24503544  0.22481716  0.27501076\n",
      "  0.35440912  0.42808982  0.92232858  0.37266281  0.56656233  0.39913327\n",
      "  0.3241327   0.32488932  0.35340598  0.4862454   0.48012485  0.53524173\n",
      "  0.43792393  0.32733868  0.29353969  0.30345452  0.30743762  0.30583943\n",
      "  0.3710727   0.31209092  0.37543888  0.81162242  0.43107816  0.31619905\n",
      "  0.30411005  0.24925062  0.35450784  0.29353969  0.47983018  0.32344858\n",
      "  0.33496283  0.299205    0.5043074   0.30698205  0.33523855  0.41985868\n",
      "  0.25700188  0.47219606  0.57016523  0.32252949  0.25255445  0.33707109\n",
      "  0.55792122  0.55082355  0.46848016  0.39382185  0.47301358  0.33496631\n",
      "  0.35658393  0.58238304  0.34599266  0.49886533  0.34709103  0.37353137\n",
      "  0.39905652  0.28650705  0.36207084  0.26404537  0.28986687  0.41587645\n",
      "  0.51309371  0.17027586  0.42259172  0.49541768  0.32261341  0.36075225\n",
      "  0.83716     0.298313    0.37599794  0.29022665  0.35715578  0.30718285\n",
      "  0.35101559  0.28272403  0.3424263   0.47738781  0.42672492  0.32347993\n",
      "  0.41672301  0.28682579  0.25201112  0.37870473  0.36446435  0.35464099\n",
      "  0.35097046  0.5084319   0.39944032  0.2971568   0.34926332  0.32562551\n",
      "  0.3241327   0.35435217  0.3390987   0.44193966  0.41184521  0.30031217]\n"
     ]
    }
   ],
   "source": [
    "results = smf.logit(formula='Survived ~ Fare + Age',data=df).fit()\n",
    "print(results.summary())\n",
    "print(results.pvalues)\n",
    "#print(results.predict())"
   ]
  },
  {
   "cell_type": "code",
   "execution_count": 35,
   "metadata": {},
   "outputs": [
    {
     "name": "stdout",
     "output_type": "stream",
     "text": [
      "        Age  Fare     Sex\n",
      "me        1    10    male\n",
      "sister    1    90  female\n",
      "dad      99    34    male\n",
      "mom      99    90  female\n",
      "---- Predictions are below this line. -----\n",
      "me        0.434860\n",
      "sister    0.753733\n",
      "dad       0.172140\n",
      "mom       0.353414\n",
      "dtype: float64\n"
     ]
    }
   ],
   "source": [
    "my_family = pd.DataFrame([{'Age': 1, 'Fare': 10, 'Sex': 'male'},\n",
    "                          {'Age': 1, 'Fare': 90, 'Sex': 'female'},\n",
    "                          {'Age': 99, 'Fare': 34, 'Sex': 'male'},\n",
    "                          {'Age': 99, 'Fare': 90, 'Sex': 'female'},\n",
    "                         ], index=['me', 'sister', 'dad', 'mom'])\n",
    "\n",
    "print(my_family)\n",
    "print('---- Predictions are below this line. -----')\n",
    "print(results.predict(my_family))"
   ]
  },
  {
   "cell_type": "code",
   "execution_count": null,
   "metadata": {
    "collapsed": true
   },
   "outputs": [],
   "source": []
  }
 ],
 "metadata": {
  "kernelspec": {
   "display_name": "Python 3",
   "language": "python",
   "name": "python3"
  },
  "language_info": {
   "codemirror_mode": {
    "name": "ipython",
    "version": 3
   },
   "file_extension": ".py",
   "mimetype": "text/x-python",
   "name": "python",
   "nbconvert_exporter": "python",
   "pygments_lexer": "ipython3",
   "version": "3.6.2"
  }
 },
 "nbformat": 4,
 "nbformat_minor": 2
}
